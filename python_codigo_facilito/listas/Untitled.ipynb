{
 "cells": [
  {
   "cell_type": "code",
   "execution_count": 34,
   "id": "8e276316",
   "metadata": {},
   "outputs": [
    {
     "name": "stdout",
     "output_type": "stream",
     "text": [
      "c++\n"
     ]
    }
   ],
   "source": [
    "cursos=[\"python\",\"django\",\"flask\",\"c\",\"c++\",\"c#\",\"java\",\"php\"]\n",
    "curso =cursos[-4]\n",
    "print(curso)"
   ]
  },
  {
   "cell_type": "code",
   "execution_count": 35,
   "id": "59fa4df2",
   "metadata": {},
   "outputs": [
    {
     "name": "stdout",
     "output_type": "stream",
     "text": [
      "['python', 'django', 'flask', 'c', 'c++', 'c#', 'java', 'php']\n"
     ]
    }
   ],
   "source": [
    "sub =cursos[:]\n",
    "print(sub)"
   ]
  },
  {
   "cell_type": "code",
   "execution_count": 36,
   "id": "ee2bf585",
   "metadata": {},
   "outputs": [
    {
     "name": "stdout",
     "output_type": "stream",
     "text": [
      "['django', 'c', 'c#']\n"
     ]
    }
   ],
   "source": [
    "sub1 =cursos[1:7:2]\n",
    "print(sub1)"
   ]
  },
  {
   "cell_type": "code",
   "execution_count": 37,
   "id": "c2ea7052",
   "metadata": {},
   "outputs": [
    {
     "name": "stdout",
     "output_type": "stream",
     "text": [
      "['php', 'java', 'c#', 'c++', 'c', 'flask', 'django', 'python']\n"
     ]
    }
   ],
   "source": [
    "sub2 =cursos[::-1]\n",
    "print(sub2)"
   ]
  },
  {
   "cell_type": "code",
   "execution_count": 43,
   "id": "6718d439",
   "metadata": {},
   "outputs": [
    {
     "name": "stdout",
     "output_type": "stream",
     "text": [
      "[8.17, 90, 1, 5, 44, 1.32]\n",
      "[90, 44, 8.17, 5, 1.32, 1]\n"
     ]
    }
   ],
   "source": [
    "#Ordenar Lista\n",
    "lista2 =[8.17,90,1,5,44,1.32]\n",
    "print(lista2)\n",
    "lista2.sort(reverse=True)\n",
    "print(lista2)"
   ]
  },
  {
   "cell_type": "code",
   "execution_count": 44,
   "id": "c5a95ed3",
   "metadata": {},
   "outputs": [
    {
     "name": "stdout",
     "output_type": "stream",
     "text": [
      "90\n"
     ]
    }
   ],
   "source": [
    "#imprimir numero mayor\n",
    "mayor = lista2[0]\n",
    "print(mayor)"
   ]
  },
  {
   "cell_type": "code",
   "execution_count": 48,
   "id": "e36192a1",
   "metadata": {},
   "outputs": [
    {
     "name": "stdout",
     "output_type": "stream",
     "text": [
      "1\n"
     ]
    }
   ],
   "source": [
    "#imprimir numero menor\n",
    "lista2.sort()\n",
    "menor=lista2[0]\n",
    "print(menor)"
   ]
  },
  {
   "cell_type": "code",
   "execution_count": 50,
   "id": "cd0cd32f",
   "metadata": {},
   "outputs": [
    {
     "name": "stdout",
     "output_type": "stream",
     "text": [
      "1\n"
     ]
    }
   ],
   "source": [
    "#numero menor con funcion min\n",
    "menor=min(lista2)\n",
    "print(menor)"
   ]
  },
  {
   "cell_type": "code",
   "execution_count": 51,
   "id": "7081b2b7",
   "metadata": {},
   "outputs": [
    {
     "name": "stdout",
     "output_type": "stream",
     "text": [
      "90\n"
     ]
    }
   ],
   "source": [
    "#numero mayor con funcion max\n",
    "mayor=max(lista2)\n",
    "print(mayor)"
   ]
  },
  {
   "cell_type": "code",
   "execution_count": 53,
   "id": "d8f46953",
   "metadata": {},
   "outputs": [
    {
     "name": "stdout",
     "output_type": "stream",
     "text": [
      "6\n"
     ]
    }
   ],
   "source": [
    "#saber la longitud de la lista\n",
    "\n",
    "longitud=len(lista2)\n",
    "print(longitud)"
   ]
  },
  {
   "cell_type": "code",
   "execution_count": 54,
   "id": "a3fc7d5b",
   "metadata": {},
   "outputs": [
    {
     "name": "stdout",
     "output_type": "stream",
     "text": [
      "False\n"
     ]
    }
   ],
   "source": [
    "#saber si un numero esta dentro de la lista \n",
    "resultado = 8 in lista2\n",
    "print(resultado)"
   ]
  },
  {
   "cell_type": "code",
   "execution_count": 55,
   "id": "4116d053",
   "metadata": {},
   "outputs": [
    {
     "name": "stdout",
     "output_type": "stream",
     "text": [
      "True\n"
     ]
    }
   ],
   "source": [
    "resultado = 8.17 in lista2\n",
    "print(resultado)"
   ]
  },
  {
   "cell_type": "code",
   "execution_count": 59,
   "id": "ff92d921",
   "metadata": {},
   "outputs": [
    {
     "name": "stdout",
     "output_type": "stream",
     "text": [
      "[1, 1.32, 5, 8.17, 44, 90]\n",
      "5\n"
     ]
    }
   ],
   "source": [
    "#saber en que indice se encuentra\n",
    "print(lista2)\n",
    "indice =lista2.index(90)\n",
    "print(indice)"
   ]
  },
  {
   "cell_type": "code",
   "execution_count": 61,
   "id": "0d2a9953",
   "metadata": {},
   "outputs": [
    {
     "name": "stdout",
     "output_type": "stream",
     "text": [
      "1\n"
     ]
    }
   ],
   "source": [
    "#cuantas veces se encuentra un numero \n",
    "lista3 =[8.17,90,1,5,44,1.32]\n",
    "\n",
    "contador = lista3.count(5)\n",
    "print(contador)"
   ]
  },
  {
   "cell_type": "code",
   "execution_count": 65,
   "id": "6cc546ee",
   "metadata": {},
   "outputs": [
    {
     "name": "stdout",
     "output_type": "stream",
     "text": [
      "10\n"
     ]
    }
   ],
   "source": [
    "#MATRICES\n",
    "fila_uno=[10,20]\n",
    "fila_dos=[30,40]\n",
    "matriz=[fila_uno,fila_dos]\n",
    "\n",
    "primer_elemento= matriz[0][0]\n",
    "print(primer_elemento)"
   ]
  },
  {
   "cell_type": "code",
   "execution_count": 66,
   "id": "dc26aaef",
   "metadata": {},
   "outputs": [
    {
     "name": "stdout",
     "output_type": "stream",
     "text": [
      "5\n"
     ]
    }
   ],
   "source": [
    "#TUPLAS\n",
    "#tupla =()\n",
    "tupla=(1,2,3,4,5,6,7,8,9,0)\n",
    "elemento=tupla[4]\n",
    "print(elemento)"
   ]
  },
  {
   "cell_type": "code",
   "execution_count": 67,
   "id": "1ea917a1",
   "metadata": {},
   "outputs": [
    {
     "name": "stdout",
     "output_type": "stream",
     "text": [
      "0\n"
     ]
    }
   ],
   "source": [
    "elemento2=tupla[-1]\n",
    "print(elemento2)"
   ]
  },
  {
   "cell_type": "code",
   "execution_count": 68,
   "id": "e5c84cad",
   "metadata": {},
   "outputs": [
    {
     "name": "stdout",
     "output_type": "stream",
     "text": [
      "(1, 3, 5, 7, 9)\n"
     ]
    }
   ],
   "source": [
    "elemento3=tupla[:9:2]\n",
    "print(elemento3)"
   ]
  },
  {
   "cell_type": "code",
   "execution_count": 69,
   "id": "3c0a7247",
   "metadata": {},
   "outputs": [
    {
     "ename": "TypeError",
     "evalue": "'tuple' object does not support item assignment",
     "output_type": "error",
     "traceback": [
      "\u001b[0;31m---------------------------------------------------------------------------\u001b[0m",
      "\u001b[0;31mTypeError\u001b[0m                                 Traceback (most recent call last)",
      "\u001b[0;32m/tmp/ipykernel_63816/621184743.py\u001b[0m in \u001b[0;36m<module>\u001b[0;34m\u001b[0m\n\u001b[1;32m      1\u001b[0m \u001b[0mtupla2\u001b[0m\u001b[0;34m=\u001b[0m\u001b[0;34m(\u001b[0m\u001b[0;36m1\u001b[0m\u001b[0;34m,\u001b[0m\u001b[0;36m2\u001b[0m\u001b[0;34m,\u001b[0m\u001b[0;36m3\u001b[0m\u001b[0;34m,\u001b[0m\u001b[0;36m4\u001b[0m\u001b[0;34m,\u001b[0m\u001b[0;36m5\u001b[0m\u001b[0;34m,\u001b[0m\u001b[0;36m6\u001b[0m\u001b[0;34m,\u001b[0m\u001b[0;36m7\u001b[0m\u001b[0;34m,\u001b[0m\u001b[0;36m8\u001b[0m\u001b[0;34m,\u001b[0m\u001b[0;36m9\u001b[0m\u001b[0;34m,\u001b[0m\u001b[0;36m0\u001b[0m\u001b[0;34m)\u001b[0m\u001b[0;34m\u001b[0m\u001b[0;34m\u001b[0m\u001b[0m\n\u001b[0;32m----> 2\u001b[0;31m \u001b[0mtupla2\u001b[0m\u001b[0;34m[\u001b[0m\u001b[0;36m1\u001b[0m\u001b[0;34m]\u001b[0m \u001b[0;34m=\u001b[0m \u001b[0;36m20\u001b[0m\u001b[0;34m\u001b[0m\u001b[0;34m\u001b[0m\u001b[0m\n\u001b[0m\u001b[1;32m      3\u001b[0m \u001b[0mprint\u001b[0m\u001b[0;34m(\u001b[0m\u001b[0mtupla2\u001b[0m\u001b[0;34m)\u001b[0m\u001b[0;34m\u001b[0m\u001b[0;34m\u001b[0m\u001b[0m\n",
      "\u001b[0;31mTypeError\u001b[0m: 'tuple' object does not support item assignment"
     ]
    }
   ],
   "source": [
    "tupla2=(1,2,3,4,5,6,7,8,9,0)\n",
    "tupla2[1] = 20\n",
    "print(tupla2)"
   ]
  },
  {
   "cell_type": "code",
   "execution_count": 80,
   "id": "81ab676a",
   "metadata": {},
   "outputs": [
    {
     "name": "stdout",
     "output_type": "stream",
     "text": [
      "1\n",
      "2\n",
      "3\n",
      "4\n"
     ]
    }
   ],
   "source": [
    "tupla3 = (1,2,3,4)\n",
    "uno,dos,tres,cuatro =tupla3[0],tupla3[1],tupla3[2],tupla3[3]\n",
    "\n",
    "\n",
    "print(uno)\n",
    "print(dos)\n",
    "print(tres)\n",
    "print(cuatro)"
   ]
  },
  {
   "cell_type": "code",
   "execution_count": 84,
   "id": "b16e4a25",
   "metadata": {},
   "outputs": [
    {
     "name": "stdout",
     "output_type": "stream",
     "text": [
      "(1, 2, 3, 4, 5, 6)\n"
     ]
    }
   ],
   "source": [
    "tupla3 = (1,2,3,4,5,6)\n",
    "uno,dos,*tres,cuatro =tupla3\n",
    "print(tupla3)\n",
    "\n"
   ]
  },
  {
   "cell_type": "code",
   "execution_count": null,
   "id": "f99d66da",
   "metadata": {},
   "outputs": [],
   "source": []
  },
  {
   "cell_type": "code",
   "execution_count": null,
   "id": "f5c8cea7",
   "metadata": {},
   "outputs": [],
   "source": []
  },
  {
   "cell_type": "code",
   "execution_count": null,
   "id": "7fd78da8",
   "metadata": {},
   "outputs": [],
   "source": []
  }
 ],
 "metadata": {
  "kernelspec": {
   "display_name": "Python 3 (ipykernel)",
   "language": "python",
   "name": "python3"
  },
  "language_info": {
   "codemirror_mode": {
    "name": "ipython",
    "version": 3
   },
   "file_extension": ".py",
   "mimetype": "text/x-python",
   "name": "python",
   "nbconvert_exporter": "python",
   "pygments_lexer": "ipython3",
   "version": "3.8.11"
  }
 },
 "nbformat": 4,
 "nbformat_minor": 5
}
