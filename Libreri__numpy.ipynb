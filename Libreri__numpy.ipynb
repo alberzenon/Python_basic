{
  "nbformat": 4,
  "nbformat_minor": 0,
  "metadata": {
    "colab": {
      "name": "Libreri_ numpy.ipynb",
      "provenance": [],
      "authorship_tag": "ABX9TyPtUi2ANoAFwtllqGXN7jLX",
      "include_colab_link": true
    },
    "kernelspec": {
      "name": "python3",
      "display_name": "Python 3"
    },
    "language_info": {
      "name": "python"
    }
  },
  "cells": [
    {
      "cell_type": "markdown",
      "metadata": {
        "id": "view-in-github",
        "colab_type": "text"
      },
      "source": [
        "<a href=\"https://colab.research.google.com/github/alberzenon/Python_basic/blob/master/Libreri__numpy.ipynb\" target=\"_parent\"><img src=\"https://colab.research.google.com/assets/colab-badge.svg\" alt=\"Open In Colab\"/></a>"
      ]
    },
    {
      "cell_type": "markdown",
      "source": [
        "**NumPy**\n",
        "\n",
        "A lo largo de las próximas secciones introduciremos el array multidimensional ndarray, estructura básica ofrecida por la librería NumPy, así como las funciones y herramientas creadas entorno a éste.\n",
        "\n",
        "La librería NumPy es una librería fundamental en el análisis de datos y es la base sobre la que se fundamentan otras muchas -incluyendo la mayoría de las librerías de alto nivel usadas en Data Science-. Ofrece la estructura multidimensional ndarray (llamada frecuentemente array, simplemente), herramientas para su gestión, funciones matemáticas de diversa naturaleza en torno al array, funciones de alto nivel de álgebra lineal y herramientas para la generación de números pseudo-aleatorios.\n",
        "\n",
        "Su primera versión (en 1995) se llamó Numeric, y no fue hasta 2006 cuando recibió el nombre con el que la conocemos ahora (NumPy, de \"Numeric Python\")\n",
        "\n",
        "La documentación oficial está disponible en el sitio web de NumPy."
      ],
      "metadata": {
        "id": "brxmTCwMhZY8"
      }
    },
    {
      "cell_type": "code",
      "execution_count": 1,
      "metadata": {
        "colab": {
          "base_uri": "https://localhost:8080/"
        },
        "id": "KkRa97fhdjMl",
        "outputId": "11e0af5d-fcef-4b95-95f2-c0b42ad49aaa"
      },
      "outputs": [
        {
          "output_type": "stream",
          "name": "stdout",
          "text": [
            "1.19.5\n"
          ]
        }
      ],
      "source": [
        "#Esta librería se importa habitualmente con el alias np:\n",
        "\n",
        "\n",
        "import numpy as np\n",
        "print(np.__version__)\n",
        "\n"
      ]
    },
    {
      "cell_type": "code",
      "source": [
        "#NumPy da solución, entre otras cosas, a la necesidad de operar con colecciones de valores de una forma eficiente. Así, por ejemplo, si partimos de las siguientes listas:\n",
        "\n",
        "\n",
        "m = [1, 2, 3]\n",
        "\n",
        "n = [3, 4, 5]\n",
        "\n"
      ],
      "metadata": {
        "id": "LsKu-dEBi3iN"
      },
      "execution_count": 2,
      "outputs": []
    },
    {
      "cell_type": "code",
      "source": [
        "m+n"
      ],
      "metadata": {
        "colab": {
          "base_uri": "https://localhost:8080/"
        },
        "id": "Z5xVtp0OkKL5",
        "outputId": "6013d04e-939c-43c1-b2d6-97e395516be5"
      },
      "execution_count": 3,
      "outputs": [
        {
          "output_type": "execute_result",
          "data": {
            "text/plain": [
              "[1, 2, 3, 3, 4, 5]"
            ]
          },
          "metadata": {},
          "execution_count": 3
        }
      ]
    },
    {
      "cell_type": "markdown",
      "source": [
        "NumPy ofrece una alternativa a las listas de datos de Python: el array multidimensional (o simplemente array). Éste es semejante a la lista de Python pero permite realizar operaciones entre ellos, u operaciones entre escalares y ellos, o ejecutar ciertas operaciones sobre todos los elementos del array de forma simultánea."
      ],
      "metadata": {
        "id": "zvvsu1Y9kShb"
      }
    },
    {
      "cell_type": "code",
      "source": [
        "a = np.array([1, 2, 3])\n",
        "a"
      ],
      "metadata": {
        "colab": {
          "base_uri": "https://localhost:8080/"
        },
        "id": "WEs4ZVywkTiK",
        "outputId": "08811549-9099-4938-9b40-ce46fcc7f63f"
      },
      "execution_count": 4,
      "outputs": [
        {
          "output_type": "execute_result",
          "data": {
            "text/plain": [
              "array([1, 2, 3])"
            ]
          },
          "metadata": {},
          "execution_count": 4
        }
      ]
    },
    {
      "cell_type": "code",
      "source": [
        "#hemos creado un array unidimensional conteniendo los valores 1, 2, 3. Podemos aplicarle una función que eleva cada valor del array al cuadrado:\n",
        "np.square(a)"
      ],
      "metadata": {
        "colab": {
          "base_uri": "https://localhost:8080/"
        },
        "id": "fWyx6r7rkuzi",
        "outputId": "368963cd-f3db-4c1c-ba2c-0a9e12841f97"
      },
      "execution_count": 6,
      "outputs": [
        {
          "output_type": "execute_result",
          "data": {
            "text/plain": [
              "array([1, 4, 9])"
            ]
          },
          "metadata": {},
          "execution_count": 6
        }
      ]
    },
    {
      "cell_type": "code",
      "source": [
        "#O, si tenemos otro array o un escalar, podemos realizar operaciones entre ellos:\n",
        "\n",
        "\n",
        "b = np.array([5, 6, 7])\n"
      ],
      "metadata": {
        "id": "ymHAgbxjk1E2"
      },
      "execution_count": 7,
      "outputs": []
    },
    {
      "cell_type": "code",
      "source": [
        "a + b"
      ],
      "metadata": {
        "colab": {
          "base_uri": "https://localhost:8080/"
        },
        "id": "Rh_ov_Mak7al",
        "outputId": "fa2c13f5-1c69-44de-dae4-ddd6c392ea2c"
      },
      "execution_count": 8,
      "outputs": [
        {
          "output_type": "execute_result",
          "data": {
            "text/plain": [
              "array([ 6,  8, 10])"
            ]
          },
          "metadata": {},
          "execution_count": 8
        }
      ]
    },
    {
      "cell_type": "code",
      "source": [
        "a - 2"
      ],
      "metadata": {
        "colab": {
          "base_uri": "https://localhost:8080/"
        },
        "id": "qjt9O8WMk8mA",
        "outputId": "cbf4f8a0-438a-46df-cee8-f27733f03d9a"
      },
      "execution_count": 9,
      "outputs": [
        {
          "output_type": "execute_result",
          "data": {
            "text/plain": [
              "array([-1,  0,  1])"
            ]
          },
          "metadata": {},
          "execution_count": 9
        }
      ]
    },
    {
      "cell_type": "markdown",
      "source": [
        "Los arrays son contenedores multidimensionales para datos homogéneos. Es decir, todos los datos contenidos en un array deberán ser del mismo tipo. Todos los arrays tiene un número de dimensiones (ndim), un tamaño (shape) que define el número de elementos en cada dimensión del array, y un tipo (dtype) que describe el tipo de los datos contenidos en el array."
      ],
      "metadata": {
        "id": "mXuhQfeclMEM"
      }
    },
    {
      "cell_type": "markdown",
      "source": [
        "\n",
        "La función array\n",
        "**texto en negrita**\n",
        "La función numpy.array\n",
        "es la forma más simple de crear un array a partir de un iterador como una simple lista (el iterador también puede ser otro array NumPy). En este ejemplo, partimos de una lista n y creamos un array, mostrando el número de dimensiones (atributo ndim), su tamaño (accesible a través de su atributo shape) y el tipo de los datos que contiene (accesible a través de su atributo dtype):"
      ],
      "metadata": {
        "id": "dFtOih_KmJbp"
      }
    },
    {
      "cell_type": "code",
      "source": [
        "n=[1, 2, 3]\n",
        "m=np.array(n)"
      ],
      "metadata": {
        "id": "MkPvDxZKmMB6"
      },
      "execution_count": 10,
      "outputs": []
    },
    {
      "cell_type": "code",
      "source": [
        "m.dtype"
      ],
      "metadata": {
        "colab": {
          "base_uri": "https://localhost:8080/"
        },
        "id": "ELqMgHX7mY8m",
        "outputId": "1f46b15e-06c1-4380-cd80-4c747380a41d"
      },
      "execution_count": 11,
      "outputs": [
        {
          "output_type": "execute_result",
          "data": {
            "text/plain": [
              "dtype('int64')"
            ]
          },
          "metadata": {},
          "execution_count": 11
        }
      ]
    },
    {
      "cell_type": "code",
      "source": [
        "m.ndim"
      ],
      "metadata": {
        "colab": {
          "base_uri": "https://localhost:8080/"
        },
        "id": "mpm1hrdWmcU1",
        "outputId": "64492c46-8c43-4195-9680-80a4ce4d247c"
      },
      "execution_count": 12,
      "outputs": [
        {
          "output_type": "execute_result",
          "data": {
            "text/plain": [
              "1"
            ]
          },
          "metadata": {},
          "execution_count": 12
        }
      ]
    },
    {
      "cell_type": "code",
      "source": [
        "from google.colab import drive\n",
        "drive.mount('/content/drive')"
      ],
      "metadata": {
        "id": "amnTDordm0eH"
      },
      "execution_count": null,
      "outputs": []
    }
  ]
}