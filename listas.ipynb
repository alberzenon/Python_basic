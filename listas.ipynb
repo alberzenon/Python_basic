{
  "nbformat": 4,
  "nbformat_minor": 0,
  "metadata": {
    "colab": {
      "name": "listas.ipynb",
      "provenance": [],
      "authorship_tag": "ABX9TyPpDdxHQkBqS+9BCZEz8IR3",
      "include_colab_link": true
    },
    "kernelspec": {
      "name": "python3",
      "display_name": "Python 3"
    },
    "language_info": {
      "name": "python"
    }
  },
  "cells": [
    {
      "cell_type": "markdown",
      "metadata": {
        "id": "view-in-github",
        "colab_type": "text"
      },
      "source": [
        "<a href=\"https://colab.research.google.com/github/alberzenon/Python_basic/blob/master/listas.ipynb\" target=\"_parent\"><img src=\"https://colab.research.google.com/assets/colab-badge.svg\" alt=\"Open In Colab\"/></a>"
      ]
    },
    {
      "cell_type": "markdown",
      "metadata": {
        "id": "Sakqh8cNd_EB"
      },
      "source": [
        "**ASE 1: Lista**\n",
        "La primera y única fase del objetivo consiste en aprender a utilizar los\n",
        "diferentes métodos propios que poseen las listas.\n",
        "El primer ejercicio consiste en aprender los métodos propios sort, reverse,\n",
        "count e index. Veámoslos en detalle:\n",
        "\n",
        "**sort**\n",
        "Método que realiza la ordenación de la lista si es posible realizarla. Por\n",
        "defecto la ordenación es ascendente, en caso de querer una ordenación\n",
        "descendente hay que indicarlo por parámetro al método (reverse=true).\n",
        "\n",
        "**reverse**\n",
        "Método que invierte el orden de la lista.\n",
        "\n",
        "**count**\n",
        "Método que cuenta el número de veces que aparece un elemento en la lista y\n",
        "lo devuelve como resultado de la ejecución de este. El método recibe como\n",
        "parámetro el elemento a contar.\n",
        "\n",
        "**index**\n",
        "Método que devuelve la posición de la primera ocurrencia en la lista del\n",
        "elemento pasado como parámetro (parámetro obligatorio). Por defecto, la\n",
        "búsqueda de la primera ocurrencia se realiza recorriendo la lista de izquierda\n",
        "a derecha (de la posición 0 a las superiores). El método tiene además dos\n",
        "parámetros opcionales, el primero se utiliza para indicar en qué posición\n",
        "empezar a buscar y el segundo para indicar en qué posición terminar de\n",
        "buscar.\n",
        "El código fuente del primer ejercicio es el siguiente:"
      ]
    },
    {
      "cell_type": "code",
      "metadata": {
        "colab": {
          "base_uri": "https://localhost:8080/"
        },
        "id": "nA6_ruyvd-Rg",
        "outputId": "252b7a80-c690-45ff-baeb-7c2e438289a2"
      },
      "source": [
        "lista = [324,367,876,8,9,9045,777,9,456,34,65]\n",
        "print(\"Lista original: \", lista)\n"
      ],
      "execution_count": null,
      "outputs": [
        {
          "output_type": "stream",
          "name": "stdout",
          "text": [
            "Lista original:  [324, 367, 876, 8, 9, 9045, 777, 9, 456, 34, 65]\n"
          ]
        }
      ]
    },
    {
      "cell_type": "code",
      "metadata": {
        "id": "2rKB9e3AecWO",
        "outputId": "0c0e8d50-f1b9-4534-d820-9f4402a5117e",
        "colab": {
          "base_uri": "https://localhost:8080/"
        }
      },
      "source": [
        "lista.sort()\n",
        "print(\"Lista ordenada: \", lista)\n"
      ],
      "execution_count": null,
      "outputs": [
        {
          "output_type": "stream",
          "name": "stdout",
          "text": [
            "Lista ordenada:  [8, 9, 9, 34, 65, 324, 367, 456, 777, 876, 9045]\n"
          ]
        }
      ]
    },
    {
      "cell_type": "code",
      "metadata": {
        "id": "Gj3OIwjBefEe",
        "outputId": "4828275d-f6d9-4d53-aaf1-1903e5dd578e",
        "colab": {
          "base_uri": "https://localhost:8080/"
        }
      },
      "source": [
        "lista.reverse()\n",
        "print(\"Lista ordenada al revés: \", lista)\n",
        "print(\"Número de elementos 9: \",lista.count(9))\n",
        "print(\"Posición del elemento 777: \",lista.index(777))"
      ],
      "execution_count": null,
      "outputs": [
        {
          "output_type": "stream",
          "name": "stdout",
          "text": [
            "Lista ordenada al revés:  [9045, 876, 777, 456, 367, 324, 65, 34, 9, 9, 8]\n",
            "Número de elementos 9:  2\n",
            "Posición del elemento 777:  2\n"
          ]
        }
      ]
    }
  ]
}